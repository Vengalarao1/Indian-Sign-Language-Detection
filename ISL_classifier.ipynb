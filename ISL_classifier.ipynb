{
  "cells": [
    {
      "cell_type": "code",
      "execution_count": null,
      "metadata": {
        "id": "y0iZwC0V9DeO"
      },
      "outputs": [],
      "source": [
        "from google.colab import drive\n",
        "drive.mount('/content/drive')"
      ]
    },
    {
      "cell_type": "code",
      "execution_count": null,
      "metadata": {
        "id": "6FF7cSYx9HeX"
      },
      "outputs": [],
      "source": [
        "import pandas as pd\n",
        "import numpy as np\n",
        "import matplotlib.pyplot as plt\n",
        "import tensorflow as tf\n",
        "from tensorflow import keras\n",
        "from tensorflow.keras import layers\n",
        "from sklearn.model_selection import train_test_split\n",
        "from sklearn.preprocessing import LabelEncoder\n",
        "from sklearn.metrics import accuracy_score, precision_score, recall_score, f1_score"
      ]
    },
    {
      "cell_type": "code",
      "execution_count": null,
      "metadata": {
        "id": "ah58w3GZ9RvB"
      },
      "outputs": [],
      "source": [
        "data = pd.read_csv('keypoint.csv',header=None)"
      ]
    },
    {
      "cell_type": "code",
      "execution_count": null,
      "metadata": {
        "id": "sw-AwEE99Uqn"
      },
      "outputs": [],
      "source": [
        "data[0] = data[0].astype(str)"
      ]
    },
    {
      "cell_type": "code",
      "execution_count": null,
      "metadata": {
        "id": "_P-r8yQk_jzj"
      },
      "outputs": [],
      "source": [
        "data[0].unique()"
      ]
    },
    {
      "cell_type": "code",
      "execution_count": null,
      "metadata": {
        "id": "1pnhhdx7_l4B"
      },
      "outputs": [],
      "source": [
        "X = data.iloc[:,1:]\n",
        "X"
      ]
    },
    {
      "cell_type": "code",
      "execution_count": null,
      "metadata": {
        "id": "fy8vzlO9_oSt"
      },
      "outputs": [],
      "source": [
        "enc = LabelEncoder()"
      ]
    },
    {
      "cell_type": "code",
      "execution_count": null,
      "metadata": {
        "id": "iXJ9YYdM_qII"
      },
      "outputs": [],
      "source": [
        "y = enc.fit_transform(data[[0]])\n",
        "y"
      ]
    },
    {
      "cell_type": "code",
      "execution_count": null,
      "metadata": {
        "id": "-cpWDsZP_sQY"
      },
      "outputs": [],
      "source": [
        "print(y)"
      ]
    },
    {
      "cell_type": "code",
      "execution_count": null,
      "metadata": {
        "id": "2cUs4KHT_udn"
      },
      "outputs": [],
      "source": [
        "from keras.callbacks import EarlyStopping\n",
        "es = EarlyStopping(monitor='val_loss', mode='min', verbose=1, patience=2)"
      ]
    },
    {
      "cell_type": "code",
      "execution_count": null,
      "metadata": {
        "id": "AvcSD9qh_wae"
      },
      "outputs": [],
      "source": [
        "X_train, X_test, y_train, y_test = train_test_split(\n",
        "    X, y, test_size=0.2, random_state=42)"
      ]
    },
    {
      "cell_type": "code",
      "execution_count": null,
      "metadata": {
        "id": "AUwSNnTp_x0p"
      },
      "outputs": [],
      "source": [
        "model = keras.Sequential([\n",
        "    layers.Dense(1470, activation='relu'),\n",
        "    layers.Dropout(0.5),\n",
        "    layers.Dense(832, activation='relu'),\n",
        "    layers.Dropout(0.5),\n",
        "    layers.Dense(428, activation='relu'),\n",
        "    layers.Dropout(0.5),\n",
        "    layers.Dense(264, activation='relu'),\n",
        "    layers.Dropout(0.5),\n",
        "    layers.Dense(35, activation='softmax')\n",
        "])"
      ]
    },
    {
      "cell_type": "code",
      "execution_count": null,
      "metadata": {
        "id": "aBM9upZK_zTP"
      },
      "outputs": [],
      "source": [
        "model.compile(loss = \"sparse_categorical_crossentropy\", optimizer = \"adam\", metrics=[\"accuracy\"])"
      ]
    },
    {
      "cell_type": "code",
      "execution_count": null,
      "metadata": {
        "id": "IgtRLa1A_1Jw"
      },
      "outputs": [],
      "source": [
        "model.fit(X_train, y_train, epochs = 100, batch_size = 128, validation_split = 0.2, callbacks=[es])"
      ]
    },
    {
      "cell_type": "code",
      "execution_count": null,
      "metadata": {
        "id": "XXeBJZ5d_4UB"
      },
      "outputs": [],
      "source": [
        "model.evaluate(X_test, y_test, verbose = 0)"
      ]
    },
    {
      "cell_type": "code",
      "execution_count": null,
      "metadata": {
        "id": "-reMKmRq_8vs"
      },
      "outputs": [],
      "source": [
        "# evaluate the model on the validation set and compute performance metrics\n",
        "y_val_pred = model.predict(X_test)\n",
        "y_val_pred_classes = np.argmax(y_val_pred, axis=1)\n",
        "acc = accuracy_score(y_test, y_val_pred_classes)\n",
        "prec = precision_score(y_test, y_val_pred_classes, average='macro')\n",
        "rec = recall_score(y_test, y_val_pred_classes, average='macro')\n",
        "f1 = f1_score(y_test, y_val_pred_classes, average='macro')\n",
        "print(\"Accuracy:\", acc)\n",
        "print(\"Precision:\", prec)\n",
        "print(\"Recall:\", rec)\n",
        "print(\"F1-score:\", f1)"
      ]
    },
    {
      "cell_type": "code",
      "execution_count": null,
      "metadata": {
        "id": "dCN9b1nvAg7h"
      },
      "outputs": [],
      "source": [
        "model.save(\"model.h5\")"
      ]
    }
  ],
  "metadata": {
    "colab": {
      "private_outputs": true,
      "provenance": []
    },
    "kernelspec": {
      "display_name": "Python 3",
      "name": "python3"
    },
    "language_info": {
      "name": "python"
    }
  },
  "nbformat": 4,
  "nbformat_minor": 0
}
